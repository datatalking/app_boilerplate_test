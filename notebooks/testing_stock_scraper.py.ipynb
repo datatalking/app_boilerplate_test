{
 "cells": [
  {
   "cell_type": "code",
   "execution_count": null,
   "metadata": {
    "collapsed": true
   },
   "outputs": [],
   "source": [
    "# testing_stock_scraper.py\n",
    "# SOURCE\n"
   ]
  },
  {
   "cell_type": "code",
   "execution_count": null,
   "outputs": [],
   "source": [
    "!pip3 install requests"
   ],
   "metadata": {
    "collapsed": false
   }
  },
  {
   "cell_type": "code",
   "execution_count": null,
   "outputs": [],
   "source": [
    "# stock_scraper.py\n",
    "# SOURCE\n",
    "\n",
    "# cannot import name 'escape' from 'jinja2'\n",
    "import csv\n",
    "import requests\n",
    "\n",
    "\n",
    "URL = \"http://www.nasdaq.com/quotes/nasdaq-100-stocks.aspx?render=download\"\n",
    "\n",
    "\n",
    "def get_data():\n",
    "    r = requests.get(URL)\n",
    "    data = r.text\n",
    "    RESULTS = {'children': []}\n",
    "    for line in csv.DictReader(data.splitlines(), skipinitialspace=True):\n",
    "        RESULTS['children'].append({\n",
    "            'name': line['Name'],\n",
    "            'symbol': line['Symbol'],\n",
    "            'symbol': line['Symbol'],\n",
    "            'price': line['lastsale'],\n",
    "            'net_change': line['netchange'],\n",
    "            'percent_change': line['pctchange'],\n",
    "            'volume': line['share_volume'],\n",
    "            'value': line['Nasdaq100_points']\n",
    "        })\n",
    "    return RESULTS\n"
   ],
   "metadata": {
    "collapsed": false
   }
  }
 ],
 "metadata": {
  "kernelspec": {
   "display_name": "Python 3",
   "language": "python",
   "name": "python3"
  },
  "language_info": {
   "codemirror_mode": {
    "name": "ipython",
    "version": 2
   },
   "file_extension": ".py",
   "mimetype": "text/x-python",
   "name": "python",
   "nbconvert_exporter": "python",
   "pygments_lexer": "ipython2",
   "version": "2.7.6"
  }
 },
 "nbformat": 4,
 "nbformat_minor": 0
}
